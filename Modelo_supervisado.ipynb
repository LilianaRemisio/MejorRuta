{
 "cells": [
  {
   "cell_type": "code",
   "execution_count": 5,
   "metadata": {},
   "outputs": [
    {
     "name": "stdout",
     "output_type": "stream",
     "text": [
      "Error Cuadrático Medio (MSE): 16.199999999999978\n",
      "Coeficiente de Determinación (R²): -15.199999999999978\n",
      "Predicción de tiempos de viaje: [29.8  9.4 26.4]\n"
     ]
    }
   ],
   "source": [
    "import pandas as pd\n",
    "\n",
    "df = pd.read_excel(\"rutas.xlsx\")\n",
    "\n",
    "from sklearn.model_selection import train_test_split\n",
    "\n",
    "# Convertir la variable categórica 'ruta' a variables dummy\n",
    "df = pd.get_dummies(df, columns=['ruta'])\n",
    "\n",
    "# Variables de entrada (features) y variable de salida (target)\n",
    "X = df.drop('tiempo_viaje', axis=1)\n",
    "y = df['tiempo_viaje']\n",
    "\n",
    "# Dividir los datos en conjuntos de entrenamiento y prueba\n",
    "X_train, X_test, y_train, y_test = train_test_split(X, y, test_size=0.2, random_state=42)\n",
    "\n",
    "from sklearn.linear_model import LinearRegression\n",
    "\n",
    "# Crear el modelo de regresión lineal\n",
    "model = LinearRegression()\n",
    "\n",
    "# Entrenar el modelo\n",
    "model.fit(X_train, y_train)\n",
    "\n",
    "# Predecir los valores de prueba\n",
    "y_pred = model.predict(X_test)\n",
    "\n",
    "# Evaluar el modelo\n",
    "from sklearn.metrics import mean_squared_error, r2_score\n",
    "\n",
    "mse = mean_squared_error(y_test, y_pred)\n",
    "r2 = r2_score(y_test, y_pred)\n",
    "\n",
    "print(f'Error Cuadrático Medio (MSE): {mse}')\n",
    "print(f'Coeficiente de Determinación (R²): {r2}')\n",
    "\n",
    "# Crear un nuevo conjunto de datos para predicción\n",
    "nueva_data = {\n",
    "    'hora_pico': [1, 0, 1],  # Hora pico: 1 significa en hora pico, 0 significa fuera de hora pico\n",
    "    'distancia': [10, 5, 7],  # Distancia en kilómetros\n",
    "    'ruta_A': [1, 0, 0],  # Rutas codificadas con variables dummy\n",
    "    'ruta_B': [0, 1, 0],\n",
    "    'ruta_C': [0, 0, 1]\n",
    "}\n",
    "\n",
    "nueva_df = pd.DataFrame(nueva_data)\n",
    "\n",
    "# Predicción de tiempo de viaje para las nuevas rutas\n",
    "prediccion_tiempo_viaje = model.predict(nueva_df)\n",
    "print(f'Predicción de tiempos de viaje: {prediccion_tiempo_viaje}')\n"
   ]
  },
  {
   "cell_type": "code",
   "execution_count": null,
   "metadata": {},
   "outputs": [],
   "source": []
  }
 ],
 "metadata": {
  "kernelspec": {
   "display_name": "Python 3",
   "language": "python",
   "name": "python3"
  },
  "language_info": {
   "codemirror_mode": {
    "name": "ipython",
    "version": 3
   },
   "file_extension": ".py",
   "mimetype": "text/x-python",
   "name": "python",
   "nbconvert_exporter": "python",
   "pygments_lexer": "ipython3",
   "version": "3.11.3"
  }
 },
 "nbformat": 4,
 "nbformat_minor": 2
}
