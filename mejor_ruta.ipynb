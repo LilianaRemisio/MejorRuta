{
 "cells": [
  {
   "cell_type": "code",
   "execution_count": 9,
   "metadata": {},
   "outputs": [
    {
     "name": "stdout",
     "output_type": "stream",
     "text": [
      "La mejor ruta de A a D es: ['A', 'B', 'D']\n"
     ]
    }
   ],
   "source": [
    "# 3. Escribir en Python las instrucciones para el desarrollo de un sistema inteligente que a partir de una base de conocimiento escrito en reglas lógicas, desarrolle la mejor ruta para moverse desde un punto A y un punto B en el sistema de transporte masivo local.\n",
    "\n",
    "import networkx as nx\n",
    "\n",
    "base_conocimiento = {\n",
    "    ('A', 'B'): 5,\n",
    "    ('B', 'C'): 10,\n",
    "    ('A', 'C'): 15,\n",
    "    ('C', 'D'): 20,\n",
    "    ('B', 'D'): 25\n",
    "}\n",
    "\n",
    "grafo = nx.Graph()\n",
    "for (origen, destino), costo in base_conocimiento.items():\n",
    "    grafo.add_edge(origen, destino, weight=costo)\n",
    "\n",
    "def encontrar_mejor_ruta(grafo, punto_inicio, punto_fin):\n",
    "    return nx.shortest_path(grafo, source=punto_inicio, target=punto_fin, weight='weight')\n",
    "\n",
    "punto_inicio = 'A'\n",
    "punto_fin = 'D'\n",
    "mejor_ruta = encontrar_mejor_ruta(grafo, punto_inicio, punto_fin)\n",
    "print(f\"La mejor ruta de {punto_inicio} a {punto_fin} es: {mejor_ruta}\")"
   ]
  }
 ],
 "metadata": {
  "kernelspec": {
   "display_name": "Python 3",
   "language": "python",
   "name": "python3"
  },
  "language_info": {
   "codemirror_mode": {
    "name": "ipython",
    "version": 3
   },
   "file_extension": ".py",
   "mimetype": "text/x-python",
   "name": "python",
   "nbconvert_exporter": "python",
   "pygments_lexer": "ipython3",
   "version": "3.11.3"
  }
 },
 "nbformat": 4,
 "nbformat_minor": 2
}
